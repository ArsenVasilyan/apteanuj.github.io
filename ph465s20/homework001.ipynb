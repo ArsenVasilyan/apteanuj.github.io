{
 "cells": [
  {
   "cell_type": "markdown",
   "metadata": {
    "collapsed": false
   },
   "source": [
    "# Introduction to Python Jupyter Notebooks\n",
    "<font size=\"1\" color=lightgray>Portions of the basic Python instructions in this notebook are taken from the open-source Python In Chemistry project (<a href=\"http://pythoninchemistry.org/\" style=\"color:lightgray\">http://pythoninchemistry.org</a>) by Fiona Dickinson, Ben Morgan & Andrew McCluskey.</font>\n",
    "\n",
    "(This notebook makes some use of LaTeX markup; you may wish to complete the LaTeX part of HW1 first if their use is unclear.)\n",
    "\n",
    "Python is currently one of the most commonly used programming languages for analysis in any technical field. It is extremely versatile, and can be used for nearly anything. I personally use it in my astrophysics research all the time, as well as for all sorts of other things (for example, once, when looking for a place to rent in a different city, I used it to fetch all of the craigslist ads, filter out ones that met my criteria, and return an organized, filtered list of what was available so that I didn't have to sort through hundreds of listings). In PH304, you learned how to use Python to solve some physics problems. In that class you used a particular implementation of Python called VPython, so-called because it helped you visualize things.\n",
    "\n",
    "In this class we will be using a different implementation called Jupyter notebooks (which is what you're looking at right now!). These let you use Python in a notebook-like way - you can write prose (like I'm doing now) and mix it in with working code. This isn't so good for giant simulations or corporate code worked on by hundreds of people (you'd want a less interactive implementation for that!), but it is great for taking notes, doing little test calculations, and showing other people how to do things. **Please work through this notebook, completing the parts that ask you to do so.**\n",
    "\n",
    "## Cells\n",
    "#### Markdown Cells\n",
    "The first thing to notice is that this notebook is comprised of \"cells.\" When you click on a chunk of text or code, you select the cell. A button pops up that you can click to edit the contents of the cell. This cell is called a \"markdown\" cell, because it uses the \"markdown\" language to format prose. It is similar to how text is formated on many websites. You can make things **bold** or *italic*. You can use LaTeX-style equation writing: $E=mc^2$. When you are done editing a cell, you click the \"Run\" button above to execute the markdown that you wrote, turning it into pretty text. **Please edit this cell and replace the following word with the (correctly typeset) equation for the area of a circle:** defenestrate. Run the cell to check your handiwork.\n",
    "\n",
    "You can add a new cell with the button that looks like a plus sign at the top left of your browser. The button adds a cell below the currently selected cell. By default, it will be a code cell, but you can use the pull-down menu to change it to markdown. **Please add a new markdown cell below this one, and use it to describe how much coding experience you have (if any) and what programming languages you have experiences with.** Your cell should have the header \"My Programming Experience\" - this should be correctly formatted as a header by prefacing it with the # sign, as I did in this cell. Run the cell, checking that everything is formatted correctly."
   ]
  },
  {
   "cell_type": "markdown",
   "metadata": {
    "collapsed": false
   },
   "source": [
    "#### Code Cells\n",
    "\n",
    "When you want to actually do a calculation instead of write prose, add a code cell. Below, I have added a very simple code cell that adds two and five and multiplies the result by ten:"
   ]
  },
  {
   "cell_type": "code",
   "execution_count": 1,
   "metadata": {
    "collapsed": false
   },
   "outputs": [
    {
     "data": {
      "text/plain": [
       "70"
      ]
     },
     "execution_count": 1,
     "metadata": {
     },
     "output_type": "execute_result"
    }
   ],
   "source": [
    "(2+5)*10"
   ]
  },
  {
   "cell_type": "markdown",
   "metadata": {
    "collapsed": false
   },
   "source": [
    "When the cell is run, it displays the output \"70\" as expected. **Below this cell, please add a code cell that subtracts 4.7 from 10 and multiplies the result by 2, and verify that it outputs the expected result.**"
   ]
  },
  {
   "cell_type": "markdown",
   "metadata": {
    "collapsed": false
   },
   "source": [
    "## Functions and Variables\n",
    "\n",
    "More commonly, we want to do more complicated calculations, which usually involves defining variables and functions. A variable is kinda like an algebraic variable - it's a thing that refers to some actual value. For example, I can create a variable called <code>a</code> and assign it the value 3. Then, if I tell the notebook to print the variable <code>a</code>, it will output the numerical value 3. I do this below:"
   ]
  },
  {
   "cell_type": "code",
   "execution_count": 0,
   "metadata": {
    "collapsed": false
   },
   "outputs": [
   ],
   "source": [
   ]
  },
  {
   "cell_type": "code",
   "execution_count": 2,
   "metadata": {
    "collapsed": false
   },
   "outputs": [
    {
     "name": "stdout",
     "output_type": "stream",
     "text": [
      "3\n"
     ]
    }
   ],
   "source": [
    "a=3\n",
    "print(a)"
   ]
  },
  {
   "cell_type": "markdown",
   "metadata": {
    "collapsed": false
   },
   "source": [
    "A function is just a little program that operates on variables and returns a result. For example, I can write a function that evaluates $x^2$:"
   ]
  },
  {
   "cell_type": "code",
   "execution_count": 3,
   "metadata": {
    "collapsed": false
   },
   "outputs": [
   ],
   "source": [
    "def f(x):\n",
    "    y = x ** 2\n",
    "    return y"
   ]
  },
  {
   "cell_type": "markdown",
   "metadata": {
    "collapsed": false
   },
   "source": [
    "What this says is that you want to: \n",
    "- <code>def</code>ine a function\n",
    "- That function should be called <code>f</code>\n",
    "- It will have one argument, <code>x</code>\n",
    "- The operation to be performed on <code>x</code> is to square <code>x</code>; <code>x ** 2</code>\n",
    "- The result of the operation should be stored in the variable <code>y</code>\n",
    "- The data stored in variable <code>y</code> should be <code>return</code>ed\n",
    "\n",
    "Be sure to notice that in Python, whitespace is important. The code that is inside the function must be consistently indented.\n",
    "\n",
    "Defining a function is only half the battle, now we need to *call* it. This is achieved using the following *syntax*:\n",
    "\n",
    "<code>result = name_of_function(argument)\n",
    "</code>\n",
    "\n",
    "This sort of code tells the computer to *execute* the function called <code>name_of_function</code>, with the argument <code>argument</code>, and store the result in the variable <code>result</code>. \n",
    "\n",
    "So if we would like to run the function that we have defined above, we could do the following, in which I have used ridiculous variable names to illustrate that they can be anything:"
   ]
  },
  {
   "cell_type": "code",
   "execution_count": 4,
   "metadata": {
    "collapsed": false
   },
   "outputs": [
    {
     "data": {
      "text/plain": [
       "9"
      ]
     },
     "execution_count": 4,
     "metadata": {
     },
     "output_type": "execute_result"
    }
   ],
   "source": [
    "pig = 3\n",
    "shark = f(pig)\n",
    "shark"
   ]
  },
  {
   "cell_type": "markdown",
   "metadata": {
    "collapsed": false
   },
   "source": [
    "Keep in mind that I must run the code cell that defines the function prior to using it in subsequent code cells.\n",
    "\n",
    "I can also define a function and use it all in one code cell, have more than one argument, and operate on things other than numbers, like so:"
   ]
  },
  {
   "cell_type": "code",
   "execution_count": 5,
   "metadata": {
    "collapsed": false
   },
   "outputs": [
    {
     "name": "stdout",
     "output_type": "stream",
     "text": [
      "super-super-super-aardvarks\n"
     ]
    }
   ],
   "source": [
    "def mySuperDuperFunction(boringWord,numSupers):\n",
    "    excitingWord = (numSupers*'super-')+boringWord\n",
    "    return excitingWord\n",
    "\n",
    "fixedWord = mySuperDuperFunction('aardvarks',3)\n",
    "print(fixedWord)"
   ]
  },
  {
   "cell_type": "markdown",
   "metadata": {
    "collapsed": false
   },
   "source": [
    "**Please add a code cell below that defines a function that evaluates $x^n$ (i.e., your function should take two arguments and be capable of evaluating any combination of $x$ and $n$). Use that function to calculate the value of $(2.7)^{3.4}$, store it in a variable called `gorgonzola`, and print that variable once it contains the correct result.**"
   ]
  },
  {
   "cell_type": "markdown",
   "metadata": {
    "collapsed": false
   },
   "source": [
    "## Working with physical constants and units, with `scipy.constants`\n",
    "\n",
    "In this calss, most of the calculations of interest involve physical constants, such as the speed of light, $c$, Avogadro's constant, $N_\\mathrm{A}$, Planck's constant, $h$, and the Boltzmann constant, $k_\\mathrm{B}$. When working with algebraic expressions, it is also important to keep track of the relevant units.\n",
    "\n",
    "While manipulating units manually (for example, when working through a problem by hand) is an important skill, if you are solving numerical problems using code you ideally want to avoid typing in unit conversions and values for constants. Any numbers that are typed in, are possible places where you could mistype. Mistakes in your code can hopefully be spotted when they produce errors, or from testing that your code produces a known result. Mistakes in numbers typed in are harder to spot, and can propogate through to your results.\n",
    "\n",
    "To reduce the chance of introducing errors, there are two easy techniques you can follow:\n",
    "\n",
    "1. Define your constants and unit conversions once by assigning them to variables (conventionally at the top of your code), rather than retyping them each time.\n",
    "2. If possible, read constants and unit conversions automatically from databases.\n",
    "\n",
    "## An Example - calculating the area of a circle\n",
    "\n",
    "**Q**. The equation for the area of a circle is:\n",
    "\\begin{equation}\n",
    "A=\\pi r^2.\n",
    "\\end{equation}\n",
    "Calculate the area of a circle with radius 5.0 cm. Give your results to 3 decimal places."
   ]
  },
  {
   "cell_type": "markdown",
   "metadata": {
    "collapsed": false
   },
   "source": [
    "##### Approach 1 — numbers are typed in-place (the worst approach - don't ever do this!)"
   ]
  },
  {
   "cell_type": "code",
   "execution_count": 6,
   "metadata": {
    "collapsed": false
   },
   "outputs": [
    {
     "name": "stdout",
     "output_type": "stream",
     "text": [
      "area = 78.538 cm^2\n"
     ]
    }
   ],
   "source": [
    "area = 3.1415 * 5.0**2\n",
    "\n",
    "print( \"area = {:.3f} cm^2\".format( area ) )"
   ]
  },
  {
   "cell_type": "markdown",
   "metadata": {
    "collapsed": false
   },
   "source": [
    "As an aside, the `.format` expression is a \"method.\" It's one way of controlling the formatting of the output. It replaces the stuff in curly brackets with the listed variables, and you can control their formatting with codes inside the curly brackets. It's probably easier to look at an example than to read a description:"
   ]
  },
  {
   "cell_type": "code",
   "execution_count": 7,
   "metadata": {
    "collapsed": false
   },
   "outputs": [
    {
     "name": "stdout",
     "output_type": "stream",
     "text": [
      "1 and 2\n",
      "01.000 and 02.000\n"
     ]
    }
   ],
   "source": [
    "numberone=1\n",
    "numbertwo=2\n",
    "print('{} and {}'.format(numberone, numbertwo)) # print the two variables without formatting restrictions (python decides) (notice how I can add comments to my code)\n",
    "print('{:06.3f} and {:06.3f}'.format(numberone, numbertwo)) # print the two variables using 6 character spaces, keeping leading zeroes, and with 3 decimal places (i.e., print them as floating point numbers)"
   ]
  },
  {
   "cell_type": "markdown",
   "metadata": {
    "collapsed": false
   },
   "source": [
    "##### Approach 2 — using variables (better, but not the best)"
   ]
  },
  {
   "cell_type": "code",
   "execution_count": 8,
   "metadata": {
    "collapsed": false
   },
   "outputs": [
    {
     "name": "stdout",
     "output_type": "stream",
     "text": [
      "area = 78.538 cm^2\n"
     ]
    }
   ],
   "source": [
    "r = 5.0 # radius in cm.\n",
    "pi = 3.1415 # pi to 4 decimal places\n",
    "\n",
    "area = pi * r**2\n",
    "\n",
    "print( \"area = {:.3f} cm^2\".format( area ) )"
   ]
  },
  {
   "cell_type": "markdown",
   "metadata": {
    "collapsed": false
   },
   "source": [
    "This approach has two advantages over the first. The variables `r` and `pi` are clearly defined at the top of the code, and are then referred to by their variable names in the actual calculations. If we go on to use these variables in a subsequent calculation, we can be sure that the same values of `r` and `pi` are used in both calculations, and it is a lot clearer where these numbers come from. By dividing up the code like this, it is also easier to understand. The actual calculations now look like the expression in the question, and it is clearer to someone reading the code what is happening."
   ]
  },
  {
   "cell_type": "markdown",
   "metadata": {
    "collapsed": false
   },
   "source": [
    "##### Approach 3 — importing constants (ideal)\n",
    "\n",
    "Instead of typing in the value of $\\pi$, you can `import` it from the `math` module. One of Python's great strength is the ability to `import` code from modules, which can be tools that are built in to Python or tools that other people made. The `math` module contains basic constants and math functions, which are listed in its documentation: https://docs.python.org/3/library/math.html."
   ]
  },
  {
   "cell_type": "code",
   "execution_count": 9,
   "metadata": {
    "collapsed": false
   },
   "outputs": [
    {
     "name": "stdout",
     "output_type": "stream",
     "text": [
      "pi = 3.141592653589793\n"
     ]
    }
   ],
   "source": [
    "from math import pi\n",
    "print( 'pi = {}'.format(pi) )"
   ]
  },
  {
   "cell_type": "markdown",
   "metadata": {
    "collapsed": false
   },
   "source": [
    "This means you never have to worry about mistyping the numerical value. You also get a more accurate value. Notice that in the previous examples, the last decimal place was incorrectly rounded to give `3.1415` and not `3.1416`, and this rounding error propagates through to the calculated answers."
   ]
  },
  {
   "cell_type": "code",
   "execution_count": 10,
   "metadata": {
    "collapsed": false
   },
   "outputs": [
    {
     "name": "stdout",
     "output_type": "stream",
     "text": [
      "area = 78.540 cm^2\n"
     ]
    }
   ],
   "source": [
    "from math import pi\n",
    "\n",
    "# question inputs\n",
    "r = 5.0 # radius in cm\n",
    "\n",
    "area = pi * r**2\n",
    "\n",
    "print( \"area = {:.3f} cm^2\".format( area ) )"
   ]
  },
  {
   "cell_type": "markdown",
   "metadata": {
    "collapsed": false
   },
   "source": [
    "## Working with `scipy.constants`\n",
    "\n",
    "The `math` module contains various mathematical constants, such as $\\pi$ and $\\mathrm{e}$ (the natural logarithm base). For **physical constants** you can use the `scipy.constants` module: https://docs.scipy.org/doc/scipy/reference/constants.html\n",
    "\n",
    "Common physical constants can be imported directly, e.g."
   ]
  },
  {
   "cell_type": "code",
   "execution_count": 11,
   "metadata": {
    "collapsed": false
   },
   "outputs": [
    {
     "name": "stdout",
     "output_type": "stream",
     "text": [
      "c = 299792458.0 m s^-1\n",
      "h = 6.62607004e-34 J s\n",
      "k = 1.38064852e-23 J K^-1\n"
     ]
    }
   ],
   "source": [
    "from scipy.constants import c # speed of light\n",
    "from scipy.constants import h # Planck's constant\n",
    "from scipy.constants import k # Boltzmann constant\n",
    "\n",
    "print( 'c = {} m s^-1'.format( c ) )\n",
    "print( 'h = {} J s'.format( h ) )\n",
    "print( 'k = {} J K^-1'.format( k ) )"
   ]
  },
  {
   "cell_type": "markdown",
   "metadata": {
    "collapsed": false
   },
   "source": [
    "`scipy.constants` also contains a `physical_constants` database (as a Python dictionary) that contains an even larger number of constants, and also gives their units."
   ]
  },
  {
   "cell_type": "code",
   "execution_count": 12,
   "metadata": {
    "collapsed": false
   },
   "outputs": [
    {
     "name": "stdout",
     "output_type": "stream",
     "text": [
      "(299792458.0, 'm s^-1', 0.0)\n",
      "(6.62607004e-34, 'J s', 8.1e-42)\n",
      "(1.38064852e-23, 'J K^-1', 7.9e-30)\n"
     ]
    }
   ],
   "source": [
    "from scipy.constants import physical_constants\n",
    "\n",
    "print( physical_constants['speed of light in vacuum'] )\n",
    "print( physical_constants['Planck constant'] )\n",
    "print( physical_constants['Boltzmann constant'] )"
   ]
  },
  {
   "cell_type": "markdown",
   "metadata": {
    "collapsed": false
   },
   "source": [
    "Each entry in the dictionary returns three components: the value, the units (as a string), and the experimental uncertainty."
   ]
  },
  {
   "cell_type": "markdown",
   "metadata": {
    "collapsed": true
   },
   "source": [
    "## In practice — constants and unit conversions in homework\n",
    "\n",
    "The following are example questions that involve working with different units, that illustrate using the approaches described above. I'll complete the first two questions in a way that would receive full credit on a homework assignment. **You must complete the third and fourth questions (Hint: format your code sorta similarly to my answer to the second question). You must do all numerical calculations within the code.** Your code should always be clearly commented."
   ]
  },
  {
   "cell_type": "markdown",
   "metadata": {
    "collapsed": false
   },
   "source": [
    "### 1.\n",
    "\n",
    "**Q** The pressure at the top of a mountain is one-third of an atmosphere. Calculate the pressure in S.I. units and in bar."
   ]
  },
  {
   "cell_type": "code",
   "execution_count": 13,
   "metadata": {
    "collapsed": false
   },
   "outputs": [
    {
     "name": "stdout",
     "output_type": "stream",
     "text": [
      "standard atmosphere in Pa: 101325.0\n",
      "one bar in Pa: 100000.0\n"
     ]
    }
   ],
   "source": [
    "from scipy.constants import atm, bar # 1 atm and 1 bar in SI units (Pascals).\n",
    "\n",
    "print( \"standard atmosphere in Pa: {}\".format( atm ) )\n",
    "print( \"one bar in Pa: {}\".format( bar ) )"
   ]
  },
  {
   "cell_type": "code",
   "execution_count": 14,
   "metadata": {
    "collapsed": false
   },
   "outputs": [
    {
     "name": "stdout",
     "output_type": "stream",
     "text": [
      "pressure in S.I. units (Pa) = 33775.0\n",
      "pressure in bar = 0.33775\n"
     ]
    }
   ],
   "source": [
    "pressure_in_atm = 1/3\n",
    "pressure_in_Pa = pressure_in_atm * atm\n",
    "pressure_in_bar = pressure_in_Pa / bar\n",
    "\n",
    "print( \"pressure in S.I. units (Pa) = {}\".format( pressure_in_Pa ) )\n",
    "print( \"pressure in bar = {}\".format( pressure_in_bar ) )"
   ]
  },
  {
   "cell_type": "markdown",
   "metadata": {
    "collapsed": false
   },
   "source": [
    "### 2.\n",
    "\n",
    "**Q** What is the volume of one mole of air, at room temperature and 1  atm pressure (problem 1.9 from Schroeder)? Solve this using Python code.\n",
    "\n",
    "**A**. We can answer this question by applying the ideal gas law:\n",
    "\n",
    "\\begin{equation}\n",
    "pV = nRT\n",
    "\\end{equation}\n",
    "which can be rearranged to give\n",
    "\\begin{equation}\n",
    "V = \\frac{nRT}{P}\n",
    "\\end{equation}\n",
    "We simply want to write code to evaluate this equation:"
   ]
  },
  {
   "cell_type": "code",
   "execution_count": 15,
   "metadata": {
    "collapsed": false
   },
   "outputs": [
    {
     "name": "stdout",
     "output_type": "stream",
     "text": [
      "volume = 0.0246172014803849 m^3\n"
     ]
    }
   ],
   "source": [
    "from scipy.constants import atm, R # 1 atm in SI units, molar gas constant in SI units\n",
    "\n",
    "# Note that I didn't actually have to re-import R because I did it earlier in the notebook. I just did it here for clarity.\n",
    "\n",
    "moles = 1.0 # given information, number of moles of gas\n",
    "temperature = 300.0 # assume a room temperature in K\n",
    "\n",
    "def idealGasVolume(n, T, P):\n",
    "    return n*R*T/P\n",
    "\n",
    "print( 'volume =', idealGasVolume(moles, temperature, atm), 'm^3' )"
   ]
  },
  {
   "cell_type": "markdown",
   "metadata": {
    "collapsed": false
   },
   "source": [
    "### 3.\n",
    "\n",
    "**Q** What is the temperature of one mole of an ideal gas, at 0.1 atm pressure, confined to 1 $\\rm m^3$? **Solve this using Python code by adding one or more cells below this one.** Be sure to use sufficient markdown cells to explain your answer, as I did in the question above. (Hint: Useful scipy constants might be `nano` and `k`.)"
   ]
  },
  {
   "cell_type": "markdown",
   "metadata": {
    "collapsed": false
   },
   "source": [
    "### 4.\n",
    "\n",
    "**Q**  What is the typical distance between neightboring molecules of air at STP (273 K and 1 atm)? How does this compare to the size of a molecule? Does this support or refute the claim that the ideal gas law is a reasonable approximation at most common Earth temperatures? (Hint: Once you have the average volume per molecule, what mathematical operation will change a volume scale to a length scale?) **Solve this using Python code by adding one or more cells below.** Be sure to use sufficient markdown cells to explain your answer, as I did above."
   ]
  }
 ],
 "metadata": {
  "kernelspec": {
   "display_name": "Python 3 (system-wide)",
   "language": "python",
   "metadata": {
    "cocalc": {
     "description": "Python 3 programming language",
     "priority": 100,
     "url": "https://www.python.org/"
    }
   },
   "name": "python3"
  },
  "language_info": {
   "codemirror_mode": {
    "name": "ipython",
    "version": 3
   },
   "file_extension": ".py",
   "mimetype": "text/x-python",
   "name": "python",
   "nbconvert_exporter": "python",
   "pygments_lexer": "ipython3",
   "version": "3.6.8"
  }
 },
 "nbformat": 4,
 "nbformat_minor": 0
}