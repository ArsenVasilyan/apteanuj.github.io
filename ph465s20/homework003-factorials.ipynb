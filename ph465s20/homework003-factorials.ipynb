{
 "cells": [
  {
   "cell_type": "markdown",
   "metadata": {
    "collapsed": false
   },
   "source": [
    "# Testing Stirling's Approximation - Factorials Three Ways\n",
    "\n",
    "Table 2.3 from Schroeder's *An Introduction to Thermal Physics* lists the values of $N!$ and Stirling's approximation of that number for several values of $N$. Hopefully the table raised a question in your mind: If large factorials are so hard to do that calculators can't do them and we need an approximation, how did Schroeder make this table? Luckily, Python can use bigger numbers than your calculator can.\n",
    "\n",
    "In this notebook, we will calculate factorials three ways (directly, with `scipy`, and with Stirling's approximation) and plot the results."
   ]
  },
  {
   "cell_type": "markdown",
   "metadata": {
    "collapsed": false
   },
   "source": [
    "### Calculating factorials directly\n",
    "\n",
    "We've seen how to define functions and use loops. By combining them, we can make a function that calculates a factorial of a number. I will give you the \"pseudocode\" for a function that doees just that. Your job is to implement the function in true Python and test it.\n",
    "\n",
    "Let's make an assumption before we write it: Let's assume that the user only uses it on integers that are greater than or equal to 1, so we don't need to check for bad input.\n",
    "\n",
    "A basic function that calculates a factorial using the definition of a factorial would look something like this:\n",
    "\n",
    "    define a function called 'directfactorial' that takes one argument called 'n', the integer you want to take the factorial of \n",
    "        create a variable called 'result' and assign it the value 1 to start with \n",
    "        \n",
    "        start a for loop with loop variable 'i' in the range 2 through n+1 (because remember how Python counts!)\n",
    "            set the previously defined variable 'result' to itself-times-i\n",
    "            \n",
    "        return the result\n",
    "\n",
    "Take some time to think about how this function works, and implement it in the code cell below this one."
   ]
  },
  {
   "cell_type": "code",
   "execution_count": 1,
   "metadata": {
    "collapsed": false
   },
   "outputs": [
   ],
   "source": [
    "# your code goes here"
   ]
  },
  {
   "cell_type": "markdown",
   "metadata": {
    "collapsed": false
   },
   "source": [
    "The factorials of 1, 2, 3, and 9 are 1, 2, 6, and 362880, respectively. In the code cell below this one, call and print your function four times for these four integers to make sure it works right."
   ]
  },
  {
   "cell_type": "code",
   "execution_count": 42,
   "metadata": {
    "collapsed": false
   },
   "outputs": [
   ],
   "source": [
    "# your test calls go here"
   ]
  },
  {
   "cell_type": "markdown",
   "metadata": {
    "collapsed": false
   },
   "source": [
    "Now try printing your `directfactorial` function's result for 100000! below, so that you see how slow this is. Once you click run, don't click anything else until the green circle next to \"In\" at the left side of your code cell is gone and replaced by a number **and** the \"stop\" button next to the \"run\" button at the top of the page is no longer green. Python will be very reluctant to show such a big number, but should provide you a button that will let you look at (part of) it. You are probably used to calculations on your calculator or computer happening basically instantaneously; notice how long this took for only one operation on one number running on a modern server designed for doing numerical calculations. This required time is why factorials are hard to deal with in complicated physics calculations that may involve many of them."
   ]
  },
  {
   "cell_type": "code",
   "execution_count": 0,
   "metadata": {
    "collapsed": false
   },
   "outputs": [
   ],
   "source": [
    "#your calculation of 100000! goes here"
   ]
  },
  {
   "cell_type": "markdown",
   "metadata": {
    "collapsed": false
   },
   "source": [
    "### Python's and `scipy`'s built in methods for taking factorials\n",
    "\n",
    "That function you wrote works great. However, if you had to write a program that used it lots and lots of times on really big numbers, it would be very slow, because as you multiply bigger and bigger numbers, the calculation gets harder and harder. So you should never use it, sorry, it's bad. People have invented algorithms for avoiding those multiplications in favor of lots of small easy ones. The best algorithms of this type use prime facorization, but those are complicated. Python has a method called `math.factorial` that uses a somewhat simpler method called \"divide and conquer.\" You don't need to understand it, but it basically just finds a bunch of smaller, easier multiplications to do that are equivalent to the ones you'd normally have to do. This is much, much faster for the computer to run, so this can be used in more complicated programs.\n",
    "\n",
    "`scipy` has a similar function: `scipy.special.factorial`. The great benefit of this function is that it can do both exact (`scipy.special.factorial(n,exact=True)`) and approximate (`scipy.special.factorial(n,exact=false)`) factorials, and it can operate on `numpy` arrays as well as individial numbers. The approximate method is, of course, approximate, but it is very fast for the computer to run, even for large numbers. `scipy`'s' approximate method for factorials relies on the Lanczos approximation of the gamma function, a method we won't study but which you can read about at https://en.wikipedia.org/wiki/Lanczos_approximation if you are curious.\n",
    "\n",
    "In the code cell below, import the `factorial` function from the `scipy.special` module (just like we did with `scipy` constants, except now it's a function from `scipy.special` instead of a constant from `scipy.constants`). Test it on 1, 2, 3, and 9 as you did above, verifying that the results are the same, for both the `exact` and `true` modes."
   ]
  },
  {
   "cell_type": "code",
   "execution_count": 0,
   "metadata": {
    "collapsed": false
   },
   "outputs": [
   ],
   "source": [
    "# your import and test calls go here"
   ]
  },
  {
   "cell_type": "markdown",
   "metadata": {
    "collapsed": false
   },
   "source": [
    "Test `scipy`'s approximate and exact methods for 100000! using two different cells run separately. Is it noticably faster than direct calculation of the exact value? Did you discover any limitations to `scipy`'s approximation when it is used in this way?"
   ]
  },
  {
   "cell_type": "code",
   "execution_count": 0,
   "metadata": {
    "collapsed": false
   },
   "outputs": [
   ],
   "source": [
    "#calculate 100000! using the approximate method here"
   ]
  },
  {
   "cell_type": "code",
   "execution_count": 1,
   "metadata": {
    "collapsed": false
   },
   "outputs": [
   ],
   "source": [
    "#calculate 100000! using the exact method here"
   ]
  },
  {
   "cell_type": "markdown",
   "metadata": {
    "collapsed": false
   },
   "source": [
    "### Stirling's approximation for factorials\n",
    "\n",
    "Even faster algorithms are too slow for certain combinatorial problems, so occasionally it is easiest to fall back on Stirling's approximation: $N!\\approx N^Ne^{-N}\\sqrt{2\\pi N}$.\n",
    "\n",
    "In the code cell below, create a function called `stirlingfactorial` that implements this approximation. Again test it on 1, 2, 3, and 9 (but don't expect a great match). Verify that it is working right by comparing the result for 1 to what Schroeder got for 1 using this approximation in his Table 2.3 on page 62. (Hint: The `math` module has `exp` and `sqrt` functions, though the latter isn't strictly necessary, as well as a `pi` constant. You should import them, as discussed in the HW1 Jupyter notebook.)"
   ]
  },
  {
   "cell_type": "code",
   "execution_count": 0,
   "metadata": {
    "collapsed": false
   },
   "outputs": [
   ],
   "source": [
    "# your Stirling's approx function and tests go here"
   ]
  },
  {
   "cell_type": "markdown",
   "metadata": {
    "collapsed": false
   },
   "source": [
    "Test Stirlings Approximation for 100000! in the cell below."
   ]
  },
  {
   "cell_type": "code",
   "execution_count": 2,
   "metadata": {
    "collapsed": false
   },
   "outputs": [
   ],
   "source": [
    "# your Stirling's approx of 100000! goes here"
   ]
  },
  {
   "cell_type": "markdown",
   "metadata": {
    "collapsed": false
   },
   "source": [
    "You should have encountered an unsalvageable problem. However, you can still use a version of Stirlings Approximation to estimate 100000!. **By looking at the equations on Schroeder's page 62, think about how you how you could could use Python and Stirling's approximation to evaluate something that helps you with this task. Make a very rough estimate of what power of ten 100000! is  on the order of.**"
   ]
  },
  {
   "cell_type": "code",
   "execution_count": 0,
   "metadata": {
    "collapsed": false
   },
   "outputs": [
   ],
   "source": [
    "# do some Python to answer what power of ten 100000! is on. If you need to explain, feel free to add markdown cells"
   ]
  },
  {
   "cell_type": "markdown",
   "metadata": {
    "collapsed": false
   },
   "source": [
    "## Comparing the methods\n",
    "\n",
    "### `scipy`'s Approximation Compared to the True Value\n",
    "In the cell below, you will plot the fractional error in the approximate version of `scipy`'s `factorial` compared to its exact version. Do so by doing the following:\n",
    "* Import pyplot as plt and numpy as np as seen in the plotting tutorial notebook\n",
    "* Use the command `np.linspace(1,100,100,dtype=int)` to create a range of integers to test (the extra keyword forces integers only) and store them in a variable `nvals`\n",
    "* Use `scipy` to calculate the array of the exact factorials of those `nvals`, and store the result in a new variable\n",
    "* Use `scipy` to calculate the array of the approximate factorials of those `nvals`, and store the result in a new variable\n",
    "* Make a plot. The x axis should be the values of n, and the y axis should be the fractional error, (exact-approximate)/exact"
   ]
  },
  {
   "cell_type": "code",
   "execution_count": 0,
   "metadata": {
    "collapsed": false
   },
   "outputs": [
   ],
   "source": [
    "# your plotting code goes here"
   ]
  },
  {
   "cell_type": "markdown",
   "metadata": {
    "collapsed": false
   },
   "source": [
    "### Stirling's Approximation Compared to the True Value\n",
    "In the cell below, you will plot the fractional error in Stirling's approximation compared to the exact version. Do so by doing the following:\n",
    "* `numpy` and `pyplot` should already be imported if you did the previous exercise, and `nvals` already created, so no need to do that again\n",
    "* Your `stirlingfactorial` function won't work on `numpy` arrays as-is. However, `numpy` has a function that fixes that. Run `npstirlingfactorial=np.vectorize(stirlingfactorial)`, it will \"vectorize\" your function so it works on arrays. It creates a new function in whatever variable you assign it to; the new function works the same way as the old one, but also accepts things you made using `numpy`. Thus you should use `npstirlingfactorial` in the rest of your calculations.\n",
    "* Use the new function to perform the needed calculations and make a plot. The x axis should be the values of n, and the y axis should be the fractional error, (exact-StirlingsApproximateValues)/exact"
   ]
  },
  {
   "cell_type": "code",
   "execution_count": 0,
   "metadata": {
    "collapsed": false
   },
   "outputs": [
   ],
   "source": [
    "# your plotting code goes here"
   ]
  },
  {
   "cell_type": "markdown",
   "metadata": {
    "collapsed": false
   },
   "source": [
    "### Your Final Observations\n",
    "Comment on the two approximations. For what $N$ does Stirling's approximation's error drop below 1%? Which approximation seems to work better overall in this numerical range, Sitrling's or `scipy`'s? (When answering that last question, look very carefully at your plot of `scipy`'s error. On the top of the y-axis you might see a number. That is the scale of the axis. So if that number is 1000, then the tickmark corresponding to 2 actually means 2000.') Answer in a markdown cell below."
   ]
  }
 ],
 "metadata": {
  "kernelspec": {
   "display_name": "Python 3 (Anaconda 5)",
   "language": "python",
   "name": "anaconda5"
  },
  "language_info": {
   "codemirror_mode": {
    "name": "ipython",
    "version": 3
   },
   "file_extension": ".py",
   "mimetype": "text/x-python",
   "name": "python",
   "nbconvert_exporter": "python",
   "pygments_lexer": "ipython3",
   "version": "3.6.5"
  }
 },
 "nbformat": 4,
 "nbformat_minor": 0
}